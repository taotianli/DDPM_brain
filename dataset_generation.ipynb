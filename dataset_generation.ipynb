{
 "cells": [
  {
   "attachments": {},
   "cell_type": "markdown",
   "id": "6833b752",
   "metadata": {},
   "source": [
    "# Training Data Generation\n",
    "\n",
    "This notebook guides you through the training dataset generation process for the BraTS2023 Inpaining Challenge. Feel free to modify and extend the procedure to your liking. For more in-depth modifications, also look at ```include.py``` where the underlying functions are defined.\n",
    "\n",
    "*Notebook runtime:* Roughly 40 minutes on 16 cores.\n",
    "\n",
    "\n",
    "## Section Overview\n",
    "\n",
    "- **Imports and Parameters**:   \n",
    "    In this section, python libraries are imported and script-wide parameters are set. Most importantly, the local path to the [BraTS 2023 GLI training dataset](https://www.synapse.org/#!Synapse:syn51514105) is specified.\n",
    "  \n",
    "  \n",
    "- **Binarize Existing Masks**:  \n",
    "    The existing multi-label BraTS 2023 GLI segmentation masks are binarized and post-processed.\n",
    "  \n",
    "  \n",
    "- **Extract Isolated Tumor Segmentations**:  \n",
    "    Connected segmentation compartments are extracted from the binarized masks. \n",
    "  \n",
    "  \n",
    "- **Generate Healthy Tissue Masks**:  \n",
    "    The previously extracted pool of tumor segmentation compartments is used as pool to sample healthy tissue segmentation masks. Healthy mask candidates are semi-randomly chosen and placed in the existing brain.\n",
    "\n",
    "\n",
    "*Note:* For more details on the healthy mask generation process see [section 2.2\n",
    "\"Healthy Inpainting Mask Generation\"](https://arxiv.org/abs/2305.08992) of our challenge manuscript."
   ]
  },
  {
   "attachments": {},
   "cell_type": "markdown",
   "id": "c56bcf4c",
   "metadata": {},
   "source": [
    "## Imports and Parameters"
   ]
  },
  {
   "cell_type": "code",
   "execution_count": 1,
   "id": "896f624d",
   "metadata": {},
   "outputs": [],
   "source": [
    "# Install required libraries (uncomment to make effective)\n",
    "# %pip install numpy pandas nibabel scipy tqdm\n",
    "\n",
    "# Includes all the relevant libraries and function we use in this notebook\n",
    "from include import *\n",
    "import matplotlib.pyplot as plt  # for figures in this notebook"
   ]
  },
  {
   "cell_type": "code",
   "execution_count": 2,
   "id": "8e385b04",
   "metadata": {},
   "outputs": [],
   "source": [
    "# Input Folder (the unpacked ASNR-MICCAI-BraTS2023-GLI-Challenge-TrainingData.zip)\n",
    "inputFolderRoot = Path(r\"D:\\BraTS\\ASNR-MICCAI-BraTS2023-GLI-Challenge-TrainingData\")\n",
    "assert (\n",
    "    inputFolderRoot.exists()\n",
    ")  # check existence of folder. If this assertion fails, you might need to download and extract https://www.synapse.org/#!Synapse:syn51514132\n",
    "\n",
    "# Randomness\n",
    "seed = 7\n",
    "np.random.seed(seed)\n",
    "\n",
    "# Multi-Processing\n",
    "threads = 20  # how many sub-processes shall be used\n",
    "\n",
    "# Output Folder\n",
    "outputFolderRoot = Path(r\"D:\\ASNR-MICCAI-BraTS-Training_Augment_v7\")"
   ]
  },
  {
   "attachments": {},
   "cell_type": "markdown",
   "id": "163da37a",
   "metadata": {},
   "source": [
    "## Binarize Existing Masks"
   ]
  },
  {
   "attachments": {},
   "cell_type": "markdown",
   "id": "47445f5c",
   "metadata": {},
   "source": [
    "We take the original BraTS segmentation masks and return a table of binary segmentation mask.\n",
    "\n",
    "The binary segmentation masks can be cleaned/post-processed (segmentationMinSize, fillHoles). Also, results are stored in the current working directory (\"binarySegmentationMasks.gz\") so they do not have to be recomputed when this notebook is re-run.\n",
    "            "
   ]
  },
  {
   "cell_type": "code",
   "execution_count": 3,
   "id": "bc35b271",
   "metadata": {
    "scrolled": true
   },
   "outputs": [
    {
     "name": "stdout",
     "output_type": "stream",
     "text": [
      "Processing 1251 folders from D:\\BraTS\\ASNR-MICCAI-BraTS2023-GLI-Challenge-TrainingData.\n"
     ]
    },
    {
     "name": "stderr",
     "output_type": "stream",
     "text": [
      "100%|██████████| 1251/1251 [05:11<00:00,  4.02it/s]\n"
     ]
    },
    {
     "name": "stdout",
     "output_type": "stream",
     "text": [
      "Saving data to binarySegmentationMasks.gz\n"
     ]
    }
   ],
   "source": [
    "tumorSegmentations = generateBinarySegmentationMasks(  # Runtime: ~8 minutes on 16 cores\n",
    "    inputFolderRoot=inputFolderRoot, relevantLabels=[1, 2, 3], segmentationMinSize=800, fillHoles=True, forceRefresh=False, threads=threads\n",
    ")"
   ]
  },
  {
   "attachments": {},
   "cell_type": "markdown",
   "id": "255ed8bd",
   "metadata": {},
   "source": [
    "Arguments of generateBinarySegmentationMasks:\n",
    "- **inputFolderRoot** : pathlib.Path  \n",
    "    Example:\"ASNR-MICCAI-BraTS2023-GLI-Challenge-TrainingData\"\n",
    "\n",
    "\n",
    "- **relevantLabels** : list, optional, default=[1,2,3]  \n",
    "    List of original BraTS labels that will be considered for the \"whole tumor\" annotation. This variable\n",
    "    relates to the labels in segmentationMask.\n",
    "    \n",
    "    \n",
    "- **segmentationMinSize** : int, optional, default=800  \n",
    "    All binary segmentation compartments below this size (in voxels) will be not be considered/returned.\n",
    "    \n",
    "    \n",
    "- **fillHoles** : bool, optional, default=True  \n",
    "    If True, fills holes in the 3D binary segmentation mask (if there are any), otherwise does nothing.\n",
    "    \n",
    "    \n",
    "- **forceRefresh** : bool, optional, default=False  \n",
    "    If True, (re)creates the *binarySegmentationMasks.gz* file, which stores the resulting binary segmentation masks.\n",
    "    If False and *binarySegmentationMasks.gz* already exists, then the returned DataFrame is taken from the \n",
    "    results file. If the results file does not exist, it is generated (as if forceRefresh was True)."
   ]
  },
  {
   "cell_type": "code",
   "execution_count": 4,
   "id": "d91eb80e",
   "metadata": {},
   "outputs": [
    {
     "data": {
      "text/html": [
       "<div>\n",
       "<style scoped>\n",
       "    .dataframe tbody tr th:only-of-type {\n",
       "        vertical-align: middle;\n",
       "    }\n",
       "\n",
       "    .dataframe tbody tr th {\n",
       "        vertical-align: top;\n",
       "    }\n",
       "\n",
       "    .dataframe thead th {\n",
       "        text-align: right;\n",
       "    }\n",
       "</style>\n",
       "<table border=\"1\" class=\"dataframe\">\n",
       "  <thead>\n",
       "    <tr style=\"text-align: right;\">\n",
       "      <th></th>\n",
       "      <th>brainMask</th>\n",
       "      <th>brainMask_V</th>\n",
       "      <th>tumorSegmentation</th>\n",
       "      <th>tumorSegmentation_p</th>\n",
       "    </tr>\n",
       "    <tr>\n",
       "      <th>brainFolder</th>\n",
       "      <th></th>\n",
       "      <th></th>\n",
       "      <th></th>\n",
       "      <th></th>\n",
       "    </tr>\n",
       "  </thead>\n",
       "  <tbody>\n",
       "    <tr>\n",
       "      <th>BraTS-GLI-00000-000</th>\n",
       "      <td>[0, 0, 0, 0, 0, 0, 0, 0, 0, 0, 0, 0, 0, 0, 0, ...</td>\n",
       "      <td>1480170</td>\n",
       "      <td>[0, 0, 0, 0, 0, 0, 0, 0, 0, 0, 0, 0, 0, 0, 0, ...</td>\n",
       "      <td>0.038615</td>\n",
       "    </tr>\n",
       "    <tr>\n",
       "      <th>BraTS-GLI-00002-000</th>\n",
       "      <td>[0, 0, 0, 0, 0, 0, 0, 0, 0, 0, 0, 0, 0, 0, 0, ...</td>\n",
       "      <td>1392393</td>\n",
       "      <td>[0, 0, 0, 0, 0, 0, 0, 0, 0, 0, 0, 0, 0, 0, 0, ...</td>\n",
       "      <td>0.136905</td>\n",
       "    </tr>\n",
       "    <tr>\n",
       "      <th>BraTS-GLI-00003-000</th>\n",
       "      <td>[0, 0, 0, 0, 0, 0, 0, 0, 0, 0, 0, 0, 0, 0, 0, ...</td>\n",
       "      <td>1617263</td>\n",
       "      <td>[0, 0, 0, 0, 0, 0, 0, 0, 0, 0, 0, 0, 0, 0, 0, ...</td>\n",
       "      <td>0.061363</td>\n",
       "    </tr>\n",
       "    <tr>\n",
       "      <th>BraTS-GLI-00005-000</th>\n",
       "      <td>[0, 0, 0, 0, 0, 0, 0, 0, 0, 0, 0, 0, 0, 0, 0, ...</td>\n",
       "      <td>1292500</td>\n",
       "      <td>[0, 0, 0, 0, 0, 0, 0, 0, 0, 0, 0, 0, 0, 0, 0, ...</td>\n",
       "      <td>0.096545</td>\n",
       "    </tr>\n",
       "    <tr>\n",
       "      <th>BraTS-GLI-00006-000</th>\n",
       "      <td>[0, 0, 0, 0, 0, 0, 0, 0, 0, 0, 0, 0, 0, 0, 0, ...</td>\n",
       "      <td>1519598</td>\n",
       "      <td>[0, 0, 0, 0, 0, 0, 0, 0, 0, 0, 0, 0, 0, 0, 0, ...</td>\n",
       "      <td>0.090757</td>\n",
       "    </tr>\n",
       "  </tbody>\n",
       "</table>\n",
       "</div>"
      ],
      "text/plain": [
       "                                                             brainMask  \\\n",
       "brainFolder                                                              \n",
       "BraTS-GLI-00000-000  [0, 0, 0, 0, 0, 0, 0, 0, 0, 0, 0, 0, 0, 0, 0, ...   \n",
       "BraTS-GLI-00002-000  [0, 0, 0, 0, 0, 0, 0, 0, 0, 0, 0, 0, 0, 0, 0, ...   \n",
       "BraTS-GLI-00003-000  [0, 0, 0, 0, 0, 0, 0, 0, 0, 0, 0, 0, 0, 0, 0, ...   \n",
       "BraTS-GLI-00005-000  [0, 0, 0, 0, 0, 0, 0, 0, 0, 0, 0, 0, 0, 0, 0, ...   \n",
       "BraTS-GLI-00006-000  [0, 0, 0, 0, 0, 0, 0, 0, 0, 0, 0, 0, 0, 0, 0, ...   \n",
       "\n",
       "                     brainMask_V  \\\n",
       "brainFolder                        \n",
       "BraTS-GLI-00000-000      1480170   \n",
       "BraTS-GLI-00002-000      1392393   \n",
       "BraTS-GLI-00003-000      1617263   \n",
       "BraTS-GLI-00005-000      1292500   \n",
       "BraTS-GLI-00006-000      1519598   \n",
       "\n",
       "                                                     tumorSegmentation  \\\n",
       "brainFolder                                                              \n",
       "BraTS-GLI-00000-000  [0, 0, 0, 0, 0, 0, 0, 0, 0, 0, 0, 0, 0, 0, 0, ...   \n",
       "BraTS-GLI-00002-000  [0, 0, 0, 0, 0, 0, 0, 0, 0, 0, 0, 0, 0, 0, 0, ...   \n",
       "BraTS-GLI-00003-000  [0, 0, 0, 0, 0, 0, 0, 0, 0, 0, 0, 0, 0, 0, 0, ...   \n",
       "BraTS-GLI-00005-000  [0, 0, 0, 0, 0, 0, 0, 0, 0, 0, 0, 0, 0, 0, 0, ...   \n",
       "BraTS-GLI-00006-000  [0, 0, 0, 0, 0, 0, 0, 0, 0, 0, 0, 0, 0, 0, 0, ...   \n",
       "\n",
       "                     tumorSegmentation_p  \n",
       "brainFolder                               \n",
       "BraTS-GLI-00000-000             0.038615  \n",
       "BraTS-GLI-00002-000             0.136905  \n",
       "BraTS-GLI-00003-000             0.061363  \n",
       "BraTS-GLI-00005-000             0.096545  \n",
       "BraTS-GLI-00006-000             0.090757  "
      ]
     },
     "execution_count": 4,
     "metadata": {},
     "output_type": "execute_result"
    }
   ],
   "source": [
    "tumorSegmentations.head()"
   ]
  },
  {
   "attachments": {},
   "cell_type": "markdown",
   "id": "b22002f4",
   "metadata": {},
   "source": [
    "Return values of generateBinarySegmentationMasks():\n",
    "- **tumorSegmentations** : pandas.DataFrame  \n",
    "    Table containing all generated binary segmentation masks. The DataFrame has the following columns:\n",
    "    - **brainFolder** : str, primary key.  \n",
    "        Folder name of the respective folder in inputFolderRoot.\n",
    "        \n",
    "    - **brainMask** : numpy.ndarray  \n",
    "        The packed (see numpy.packbits()) brain mask. This brain masked is obtained by taking all non-zero\n",
    "        T1 voxels.\n",
    "        \n",
    "    - **brainMask_CoM** : tuple  \n",
    "        The 3D coordinates of center of mass of the brain mask. \n",
    "         \n",
    "    - **brainMask_V** : numpy.float64\n",
    "        Volume of brainMask measured in voxels\n",
    "        \n",
    "    - **tumorMask** : numpy.ndarray  \n",
    "        The binary segmentation mask of the \"whole tumor\".\n",
    "        \n",
    "    - **tumorMask_V** : numpy.float64  \n",
    "        Volume of tumorMask measured in voxels.\n",
    "        \n",
    "    - **tumorMask_p** : numpy.float64\n",
    "        Volume of binarySegmentationMask measured in percentage of the brainMask. "
   ]
  },
  {
   "attachments": {},
   "cell_type": "markdown",
   "id": "c988c4e8",
   "metadata": {},
   "source": [
    "### Example Figure: Binarized mask"
   ]
  },
  {
   "cell_type": "code",
   "execution_count": 5,
   "id": "9832d173",
   "metadata": {},
   "outputs": [
    {
     "name": "stdout",
     "output_type": "stream",
     "text": [
      "BraTS-GLI-00207-000: tumor segmentation mask\n"
     ]
    },
    {
     "data": {
      "image/png": "[encoded data removed]",
      "text/plain": [
       "<Figure size 2200x200 with 11 Axes>"
      ]
     },
     "metadata": {},
     "output_type": "display_data"
    }
   ],
   "source": [
    "def plot_3D_single(mask, steps_size=15, cmap=\"gray\"):\n",
    "    shape = mask.shape\n",
    "    sliceIDs = list(range(0, shape[-1], steps_size))\n",
    "    size = (shape[0] / 120.0, shape[1] / 120.0)\n",
    "\n",
    "    fig, ax = plt.subplots(figsize=(size[0] * len(sliceIDs), size[1]), nrows=1, ncols=len(sliceIDs), sharey=True, dpi=100)\n",
    "\n",
    "    for i, sliceID in enumerate(sliceIDs):\n",
    "        ax[i].imshow(mask[:, :, sliceID].T, cmap=cmap, interpolation=\"nearest\")\n",
    "        # ax[i].set_title(sliceID)\n",
    "\n",
    "    plt.show()\n",
    "\n",
    "\n",
    "# choose random segmentation mask\n",
    "folderName = np.random.choice(tumorSegmentations.index)  # get random folder\n",
    "\n",
    "# unpack segmentation mask\n",
    "packedMask = tumorSegmentations.at[folderName, \"tumorSegmentation\"]  # get packed mask\n",
    "tumorSegmentation = np.unpackbits(packedMask).reshape(niftiShape).astype(bool)  # unpack mask\n",
    "\n",
    "# plot\n",
    "print(f\"{folderName}: tumor segmentation mask\")\n",
    "plot_3D_single(tumorSegmentation, cmap=\"Reds\")"
   ]
  },
  {
   "attachments": {},
   "cell_type": "markdown",
   "id": "fb5e2b78",
   "metadata": {},
   "source": [
    "### (Optional) Figure: Binarized masks distribution"
   ]
  },
  {
   "cell_type": "code",
   "execution_count": 6,
   "id": "0c920ed4",
   "metadata": {},
   "outputs": [
    {
     "data": {
      "image/png": "[encoded data removed]",
      "text/plain": [
       "<Figure size 320x180 with 1 Axes>"
      ]
     },
     "metadata": {},
     "output_type": "display_data"
    }
   ],
   "source": [
    "plt.figure(figsize=(1.6 * 2, 0.9 * 2))\n",
    "plt.title(\"Tumor segmentation volume\")\n",
    "plt.hist(tumorSegmentations.tumorSegmentation_p * 100, bins=30)\n",
    "plt.xlabel(\"% of brain\")\n",
    "plt.ylabel(\"#\")\n",
    "plt.show()"
   ]
  },
  {
   "attachments": {},
   "cell_type": "markdown",
   "id": "7304db20",
   "metadata": {},
   "source": [
    "## Extract Isolated Tumor Segmentations\n",
    "\n",
    "We take the previously generated binary segmentation masks and extract all isolated segmentation compartments.\n",
    "\n",
    "For each brain, connected components of tumor segmentations are found and a separate crop for each of these components (tumorCompartments) is returned."
   ]
  },
  {
   "cell_type": "code",
   "execution_count": 7,
   "id": "0ada8595",
   "metadata": {},
   "outputs": [
    {
     "name": "stderr",
     "output_type": "stream",
     "text": [
      "100%|██████████| 1251/1251 [01:50<00:00, 11.28it/s]\n"
     ]
    },
    {
     "name": "stdout",
     "output_type": "stream",
     "text": [
      "Saving data to tumorCompartments.gz\n",
      "Extracted 1429 segmentation compartments from 1251 brains\n"
     ]
    }
   ],
   "source": [
    "tumorCompartments = getTumorCompartments(tumorSegmentations, forceRefresh=False, threads=threads)  # takes ~1.5 minutes on 16 cores\n",
    "\n",
    "print(f\"Extracted {len(tumorCompartments.index)} segmentation compartments from {len(tumorSegmentations.index)} brains\")"
   ]
  },
  {
   "attachments": {},
   "cell_type": "markdown",
   "id": "49500f8d",
   "metadata": {},
   "source": [
    "Arguments for getSegmentationCompartments:\n",
    "- **tumorSegmentations** : pandas.DataFrame  \n",
    "    Table containing all binary brain tumor segmentations (see previous section)\n",
    "- **forceRefresh** : Same effect as in previous section, but filename is *tumorCompartments.gz*\n",
    "- **threads** : Same effect as in previous section"
   ]
  },
  {
   "cell_type": "code",
   "execution_count": 8,
   "id": "fd8b2e70",
   "metadata": {},
   "outputs": [
    {
     "data": {
      "text/html": [
       "<div>\n",
       "<style scoped>\n",
       "    .dataframe tbody tr th:only-of-type {\n",
       "        vertical-align: middle;\n",
       "    }\n",
       "\n",
       "    .dataframe tbody tr th {\n",
       "        vertical-align: top;\n",
       "    }\n",
       "\n",
       "    .dataframe thead th {\n",
       "        text-align: right;\n",
       "    }\n",
       "</style>\n",
       "<table border=\"1\" class=\"dataframe\">\n",
       "  <thead>\n",
       "    <tr style=\"text-align: right;\">\n",
       "      <th></th>\n",
       "      <th>brainFolder</th>\n",
       "      <th>p</th>\n",
       "      <th>packedCompartment</th>\n",
       "      <th>compartmentShape</th>\n",
       "    </tr>\n",
       "  </thead>\n",
       "  <tbody>\n",
       "    <tr>\n",
       "      <th>0</th>\n",
       "      <td>BraTS-GLI-00000-000</td>\n",
       "      <td>0.038615</td>\n",
       "      <td>[0, 0, 0, 0, 0, 0, 0, 0, 0, 0, 0, 0, 0, 0, 0, ...</td>\n",
       "      <td>(46, 76, 47)</td>\n",
       "    </tr>\n",
       "    <tr>\n",
       "      <th>1</th>\n",
       "      <td>BraTS-GLI-00002-000</td>\n",
       "      <td>0.136905</td>\n",
       "      <td>[0, 0, 0, 0, 0, 0, 0, 0, 0, 0, 0, 0, 0, 0, 0, ...</td>\n",
       "      <td>(77, 103, 86)</td>\n",
       "    </tr>\n",
       "    <tr>\n",
       "      <th>2</th>\n",
       "      <td>BraTS-GLI-00003-000</td>\n",
       "      <td>0.061363</td>\n",
       "      <td>[0, 0, 0, 0, 0, 0, 0, 0, 0, 0, 0, 0, 0, 0, 0, ...</td>\n",
       "      <td>(53, 72, 60)</td>\n",
       "    </tr>\n",
       "    <tr>\n",
       "      <th>3</th>\n",
       "      <td>BraTS-GLI-00005-000</td>\n",
       "      <td>0.096545</td>\n",
       "      <td>[0, 0, 0, 0, 0, 0, 0, 0, 0, 0, 0, 0, 0, 0, 0, ...</td>\n",
       "      <td>(71, 87, 65)</td>\n",
       "    </tr>\n",
       "    <tr>\n",
       "      <th>4</th>\n",
       "      <td>BraTS-GLI-00006-000</td>\n",
       "      <td>0.090757</td>\n",
       "      <td>[0, 0, 0, 0, 0, 0, 0, 0, 0, 0, 0, 0, 0, 0, 0, ...</td>\n",
       "      <td>(75, 71, 68)</td>\n",
       "    </tr>\n",
       "  </tbody>\n",
       "</table>\n",
       "</div>"
      ],
      "text/plain": [
       "           brainFolder         p  \\\n",
       "0  BraTS-GLI-00000-000  0.038615   \n",
       "1  BraTS-GLI-00002-000  0.136905   \n",
       "2  BraTS-GLI-00003-000  0.061363   \n",
       "3  BraTS-GLI-00005-000  0.096545   \n",
       "4  BraTS-GLI-00006-000  0.090757   \n",
       "\n",
       "                                   packedCompartment compartmentShape  \n",
       "0  [0, 0, 0, 0, 0, 0, 0, 0, 0, 0, 0, 0, 0, 0, 0, ...     (46, 76, 47)  \n",
       "1  [0, 0, 0, 0, 0, 0, 0, 0, 0, 0, 0, 0, 0, 0, 0, ...    (77, 103, 86)  \n",
       "2  [0, 0, 0, 0, 0, 0, 0, 0, 0, 0, 0, 0, 0, 0, 0, ...     (53, 72, 60)  \n",
       "3  [0, 0, 0, 0, 0, 0, 0, 0, 0, 0, 0, 0, 0, 0, 0, ...     (71, 87, 65)  \n",
       "4  [0, 0, 0, 0, 0, 0, 0, 0, 0, 0, 0, 0, 0, 0, 0, ...     (75, 71, 68)  "
      ]
     },
     "execution_count": 8,
     "metadata": {},
     "output_type": "execute_result"
    }
   ],
   "source": [
    "tumorCompartments.head()"
   ]
  },
  {
   "attachments": {},
   "cell_type": "markdown",
   "id": "292932f1",
   "metadata": {},
   "source": [
    "Return values of getSegmentationCompartments():\n",
    "- **tumorCompartments** : pandas.DataFrame  \n",
    "     Table containing all extracted tumor segmentation compartments. The DataFrame has the following columns:\n",
    "    - **brainFolder** : str, primary key.  \n",
    "        Folder name identifying the brain the compartment was taken from.\n",
    "    - **p** : numpy.float64  \n",
    "        Column of the segmentation component size measured in percent of the brainMask.\n",
    "    - **packedCompartment** : numpy.ndarray, variable shape  \n",
    "        The segmentation compartment cropped from the whole brain (based on the minimal bounding box).\n",
    "        As the size of this crop can vary in size, this packed representation also varies in size.\n",
    "    - **compartmentShape** : list of tuples  \n",
    "        The shape of the segmentation compartment before it was packed (this is important for unpacking)"
   ]
  },
  {
   "attachments": {},
   "cell_type": "markdown",
   "id": "52645bbb",
   "metadata": {},
   "source": [
    "### Figure: Example segmentation compartment"
   ]
  },
  {
   "cell_type": "code",
   "execution_count": 9,
   "id": "b94a37d9",
   "metadata": {},
   "outputs": [
    {
     "name": "stdout",
     "output_type": "stream",
     "text": [
      "BraTS-GLI-01363-000: One tumor segmentation compartment with shape: (17, 30, 26)\n"
     ]
    },
    {
     "data": {
      "image/png": "[encoded data removed]",
      "text/plain": [
       "<Figure size 42.5x25 with 3 Axes>"
      ]
     },
     "metadata": {},
     "output_type": "display_data"
    }
   ],
   "source": [
    "# choose random compartment\n",
    "index = np.random.choice(tumorCompartments.index)\n",
    "\n",
    "# unpack segmentation mask\n",
    "packedComp = tumorCompartments.at[index, \"packedCompartment\"]  # get packed mask\n",
    "shape = tumorCompartments.at[index, \"compartmentShape\"]  # get packed mask\n",
    "unpacked_length = shape[0] * shape[1] * shape[2]\n",
    "compartment = np.unpackbits(packedComp)[:unpacked_length].reshape(shape).astype(bool)  # unpack mask\n",
    "\n",
    "# plot\n",
    "print(f\"{tumorCompartments.at[index, 'brainFolder']}: One tumor segmentation compartment with shape: {shape}\")\n",
    "plot_3D_single(compartment, steps_size=10, cmap=\"Reds\")"
   ]
  },
  {
   "attachments": {},
   "cell_type": "markdown",
   "id": "7f8852b0",
   "metadata": {},
   "source": [
    "### Figure: Compartment pool size distribution"
   ]
  },
  {
   "cell_type": "code",
   "execution_count": 10,
   "id": "46ff87a6",
   "metadata": {},
   "outputs": [
    {
     "data": {
      "image/png": "[encoded data removed]",
      "text/plain": [
       "<Figure size 320x180 with 1 Axes>"
      ]
     },
     "metadata": {},
     "output_type": "display_data"
    }
   ],
   "source": [
    "plt.figure(figsize=(1.6 * 2, 0.9 * 2))\n",
    "plt.title(\"Volume of compartments\")\n",
    "plt.hist(tumorCompartments.p * 100, bins=30)\n",
    "plt.xlabel(\"% of brain\")\n",
    "plt.ylabel(\"#\")\n",
    "plt.show()"
   ]
  },
  {
   "attachments": {},
   "cell_type": "markdown",
   "id": "8e0b89cd",
   "metadata": {},
   "source": [
    "## Generate Healthy Tissue Masks\n",
    "\n",
    "Healthy tissue masks are generated by taking an existing tumor masks and placing them in healthy regions.\n",
    "\n",
    "For that, tumor masks are semi-randomly sampled from the existing segmentation pool (tumorCompartments). They are transformed and semi-randomly placed in the brain. Potentially resampling is required until the placement configuration fulfills the specified quality requirements.\n"
   ]
  },
  {
   "cell_type": "code",
   "execution_count": 11,
   "id": "ca203cdf",
   "metadata": {},
   "outputs": [
    {
     "name": "stderr",
     "output_type": "stream",
     "text": [
      "100%|██████████| 1251/1251 [19:53<00:00,  1.05it/s]\n"
     ]
    },
    {
     "name": "stdout",
     "output_type": "stream",
     "text": [
      "Saving data to healthyMasks.gz\n"
     ]
    }
   ],
   "source": [
    "healthyMasks = getHealthyMasks(  # takes ~30 minutes on 16 cores\n",
    "    inputFolderRoot,\n",
    "    outputFolderRoot,\n",
    "    tumorSegmentations,\n",
    "    tumorCompartments,\n",
    "    samplesPerBrain=1,  # This you want to increase to get more training data\n",
    "    tumorDilationDistance=5,\n",
    "    minDistanceToTumor=5.0,\n",
    "    sizeRangeTolerance=0.1,\n",
    "    randPointsN=2,\n",
    "    minimalBrainIntersection_p=0.75,\n",
    "    forceRefresh=False,\n",
    "    threads=threads,\n",
    "    seed=seed,\n",
    ")"
   ]
  },
  {
   "attachments": {},
   "cell_type": "markdown",
   "id": "cbed052a",
   "metadata": {},
   "source": [
    "Arguments for getHealthyMasks:\n",
    "- **inputFolderRoot** : pathlib.Path  \n",
    "    Path to reference BraTS dataset.\n",
    "    Example:\"ASNR-MICCAI-BraTS2023-GLI-Challenge-TrainingData\"\n",
    "    \n",
    "    \n",
    "- **outputFolderRoot** : pathlib.Path  \n",
    "    Path to the output folder. Example: \"ASNR-MICCAI-BraTS2023-Local-Synthesis-Challenge-Training\"\n",
    "    \n",
    "    \n",
    "- **tumorSegmentations** : pandas.DataFrame  \n",
    "    Table containing all generated binary segmentation masks.\n",
    "    For more details see generateBinarySegmentationMasks()\n",
    "    \n",
    "    \n",
    "- **tumorCompartments** : pandas.DataFrame  \n",
    "    Table containing all extracted tumor segmentation compartments. For mor details see getTumorCompartments()\n",
    "    \n",
    "    \n",
    "- **samplesPerBrain** : int, optional, default=1  \n",
    "    How many healthy masks shall be sampled per brain. This parameter significantly influences the size of the\n",
    "    resulting training set.\n",
    "    \n",
    "    \n",
    "- **tumorDilationDistance** : float, optional, default=5.0  \n",
    "    How much voxels the binary segmentation mask shall be dilated (inflated). This operation makes the tumor\n",
    "    segmentation bigger and also has a smoothing effect.\n",
    "    \n",
    "    \n",
    "- **minDistanceToTumor** : float, optional, default=5.0  \n",
    "    Minimal distance the sampled healthy tissue compartment needs to have to the (dilated) tumor mask.\n",
    "    \n",
    "    \n",
    "- **sizeRangeTolerance** : float, optional, default=0.1  \n",
    "    Percentage of tolerance window for sampling inversely proportional in the compartment size\n",
    "    distribution. For more details see sampleCompartment()\n",
    "    \n",
    "    \n",
    "- **randPointsN** : int, optional, default=0.1  \n",
    "    Amount of points to be sampled for choosing the best one. The more points are sampled the\n",
    "    stronger is the tendency away from the tumor.\n",
    "    \n",
    "    \n",
    "- **minimalBrainIntersection_p** : float, optional, default=0.75  \n",
    "    How much percentage the compartment has to overlap at least with the brain (brainMask).\n",
    "    \n",
    "    \n",
    "- **forceRefresh** : bool, optional, default=False  \n",
    "    If True, (re)creates the samples in outputFolderRoot and *healthyMasks.gz*, which stores the resulting\n",
    "    healthy masks too. If False and *healthyMasks.gz* already exists, then the returned DataFrame is taken\n",
    "    from the results file. No samples will be (re)generated. If the output folder or the results file does\n",
    "    not exist, both are generated as if forceRefresh was True.\n",
    "    \n",
    "    \n",
    "- **threads** : int, optional, default=16  \n",
    "    The amount of parallel sub-processes to compute results.\n",
    "    \n",
    "    \n",
    "- **seed** : int, optional, default=2023  \n",
    "    Seed to make the sampling process reproducible."
   ]
  },
  {
   "cell_type": "code",
   "execution_count": 12,
   "id": "92203699",
   "metadata": {},
   "outputs": [
    {
     "data": {
      "text/html": [
       "<div>\n",
       "<style scoped>\n",
       "    .dataframe tbody tr th:only-of-type {\n",
       "        vertical-align: middle;\n",
       "    }\n",
       "\n",
       "    .dataframe tbody tr th {\n",
       "        vertical-align: top;\n",
       "    }\n",
       "\n",
       "    .dataframe thead th {\n",
       "        text-align: right;\n",
       "    }\n",
       "</style>\n",
       "<table border=\"1\" class=\"dataframe\">\n",
       "  <thead>\n",
       "    <tr style=\"text-align: right;\">\n",
       "      <th></th>\n",
       "      <th>packedMasks</th>\n",
       "    </tr>\n",
       "    <tr>\n",
       "      <th>brainFolder</th>\n",
       "      <th></th>\n",
       "    </tr>\n",
       "  </thead>\n",
       "  <tbody>\n",
       "    <tr>\n",
       "      <th>BraTS-GLI-00000-000</th>\n",
       "      <td>[[0, 0, 0, 0, 0, 0, 0, 0, 0, 0, 0, 0, 0, 0, 0,...</td>\n",
       "    </tr>\n",
       "    <tr>\n",
       "      <th>BraTS-GLI-00002-000</th>\n",
       "      <td>[[0, 0, 0, 0, 0, 0, 0, 0, 0, 0, 0, 0, 0, 0, 0,...</td>\n",
       "    </tr>\n",
       "    <tr>\n",
       "      <th>BraTS-GLI-00003-000</th>\n",
       "      <td>[[0, 0, 0, 0, 0, 0, 0, 0, 0, 0, 0, 0, 0, 0, 0,...</td>\n",
       "    </tr>\n",
       "    <tr>\n",
       "      <th>BraTS-GLI-00005-000</th>\n",
       "      <td>[[0, 0, 0, 0, 0, 0, 0, 0, 0, 0, 0, 0, 0, 0, 0,...</td>\n",
       "    </tr>\n",
       "    <tr>\n",
       "      <th>BraTS-GLI-00006-000</th>\n",
       "      <td>[[0, 0, 0, 0, 0, 0, 0, 0, 0, 0, 0, 0, 0, 0, 0,...</td>\n",
       "    </tr>\n",
       "  </tbody>\n",
       "</table>\n",
       "</div>"
      ],
      "text/plain": [
       "                                                           packedMasks\n",
       "brainFolder                                                           \n",
       "BraTS-GLI-00000-000  [[0, 0, 0, 0, 0, 0, 0, 0, 0, 0, 0, 0, 0, 0, 0,...\n",
       "BraTS-GLI-00002-000  [[0, 0, 0, 0, 0, 0, 0, 0, 0, 0, 0, 0, 0, 0, 0,...\n",
       "BraTS-GLI-00003-000  [[0, 0, 0, 0, 0, 0, 0, 0, 0, 0, 0, 0, 0, 0, 0,...\n",
       "BraTS-GLI-00005-000  [[0, 0, 0, 0, 0, 0, 0, 0, 0, 0, 0, 0, 0, 0, 0,...\n",
       "BraTS-GLI-00006-000  [[0, 0, 0, 0, 0, 0, 0, 0, 0, 0, 0, 0, 0, 0, 0,..."
      ]
     },
     "execution_count": 12,
     "metadata": {},
     "output_type": "execute_result"
    }
   ],
   "source": [
    "healthyMasks.head()"
   ]
  },
  {
   "attachments": {},
   "cell_type": "markdown",
   "id": "9e1a57c3",
   "metadata": {},
   "source": [
    "Return values of getHealthyMasks():\n",
    "- **healthyMasks** : pandas.DataFrame  \n",
    "    Table containing all extracted tumor segmentation compartments. The DataFrame has the following columns:\n",
    "    - **brainFolder** : str, primary key.  \n",
    "        Folder name identifying the brain the healthy mask(s) was/were generated for.\n",
    "    - **packedMasks** : list of numpy.ndarray of shape: (240x240x155)/8 = 1116000  \n",
    "        A list of packed (see numpy.packbits()) healthy tissue masks that were generated for the respective brain.\n",
    "        The length of this list is equal to samplesPerBrain."
   ]
  },
  {
   "attachments": {},
   "cell_type": "markdown",
   "id": "088bc8cc",
   "metadata": {},
   "source": [
    "### Figure: Example mask"
   ]
  },
  {
   "cell_type": "code",
   "execution_count": 13,
   "id": "15add4b2",
   "metadata": {
    "scrolled": true
   },
   "outputs": [
    {
     "name": "stdout",
     "output_type": "stream",
     "text": [
      "BraTS-GLI-00587-000: t1n\n"
     ]
    },
    {
     "data": {
      "image/png": "[encoded data removed]",
      "text/plain": [
       "<Figure size 2200x200 with 11 Axes>"
      ]
     },
     "metadata": {},
     "output_type": "display_data"
    },
    {
     "name": "stdout",
     "output_type": "stream",
     "text": [
      "BraTS-GLI-00587-000: mask-unhealthy\n"
     ]
    },
    {
     "data": {
      "image/png": "[encoded data removed]",
      "text/plain": [
       "<Figure size 2200x200 with 11 Axes>"
      ]
     },
     "metadata": {},
     "output_type": "display_data"
    },
    {
     "name": "stdout",
     "output_type": "stream",
     "text": [
      "BraTS-GLI-00587-000: mask-healthy\n"
     ]
    },
    {
     "data": {
      "image/png": "[encoded data removed]",
      "text/plain": [
       "<Figure size 2200x200 with 11 Axes>"
      ]
     },
     "metadata": {},
     "output_type": "display_data"
    }
   ],
   "source": [
    "# choose random healthy mask\n",
    "folderName = np.random.choice(healthyMasks.index)  # get random folder\n",
    "\n",
    "# plot t1n\n",
    "print(f\"{folderName}: t1n\")\n",
    "filePath = outputFolderRoot.joinpath(folderName).joinpath(f\"{folderName}-t1n.nii.gz\")\n",
    "t1n = nib.load(filePath).get_fdata()\n",
    "plot_3D_single(t1n)\n",
    "\n",
    "# plot unhealthy mask\n",
    "print(f\"{folderName}: mask-unhealthy\")\n",
    "filePath = outputFolderRoot.joinpath(folderName).joinpath(f\"{folderName}-mask-unhealthy.nii.gz\")\n",
    "unhealthy = nib.load(filePath).get_fdata()\n",
    "plot_3D_single(unhealthy, cmap=\"Reds\")\n",
    "\n",
    "# plot healthy mask\n",
    "print(f\"{folderName}: mask-healthy\")\n",
    "packedMask = healthyMasks.at[folderName, \"packedMasks\"][0]  # take first packed mask\n",
    "healthy = np.unpackbits(packedMask).reshape(niftiShape).astype(bool)  # unpack mask\n",
    "plot_3D_single(healthy, cmap=\"Greens\")"
   ]
  },
  {
   "cell_type": "code",
   "execution_count": null,
   "id": "ddfda42c",
   "metadata": {},
   "outputs": [],
   "source": []
  }
 ],
 "metadata": {
  "kernelspec": {
   "display_name": "Python 3 (ipykernel)",
   "language": "python",
   "name": "python3"
  },
  "language_info": {
   "codemirror_mode": {
    "name": "ipython",
    "version": 3
   },
   "file_extension": ".py",
   "mimetype": "text/x-python",
   "name": "python",
   "nbconvert_exporter": "python",
   "pygments_lexer": "ipython3",
   "version": "3.10.13"
  }
 },
 "nbformat": 4,
 "nbformat_minor": 5
}
